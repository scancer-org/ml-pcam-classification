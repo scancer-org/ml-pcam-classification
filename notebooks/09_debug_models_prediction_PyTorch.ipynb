{
  "nbformat": 4,
  "nbformat_minor": 0,
  "metadata": {
    "colab": {
      "name": "debug_models_prediction_PyTorch.ipynb",
      "provenance": [],
      "authorship_tag": "ABX9TyPGwzhoFFjGG5idGxDXersU",
      "include_colab_link": true
    },
    "kernelspec": {
      "name": "python3",
      "display_name": "Python 3"
    },
    "language_info": {
      "name": "python"
    },
    "accelerator": "GPU"
  },
  "cells": [
    {
      "cell_type": "markdown",
      "metadata": {
        "id": "view-in-github",
        "colab_type": "text"
      },
      "source": [
        "<a href=\"https://colab.research.google.com/github/scancer-org/ml-pcam-classification/blob/main/notebooks/09_debug_models_prediction_PyTorch.ipynb\" target=\"_parent\"><img src=\"https://colab.research.google.com/assets/colab-badge.svg\" alt=\"Open In Colab\"/></a>"
      ]
    },
    {
      "cell_type": "code",
      "metadata": {
        "id": "Bna-Cv8VvHyY"
      },
      "source": [
        "import h5py\n",
        "import numpy as np\n",
        "import torch\n",
        "# import wandb\n",
        "import os\n",
        "import pandas as pd\n",
        "import PIL.Image\n",
        "import matplotlib.pyplot as plt\n",
        "import shutil\n",
        "import time\n",
        "import torch.optim as optim\n",
        "import torch.nn as nn\n",
        "import torch.nn.functional as F\n",
        "from torch.utils.data import DataLoader, Dataset\n",
        "from google.colab import drive\n",
        "from torch.utils import data\n",
        "from os import listdir\n",
        "from pathlib import Path\n",
        "from PIL import Image\n",
        "from skimage import io, transform\n",
        "from torch.utils.data import Dataset, DataLoader\n",
        "from torch.utils.data.sampler import SubsetRandomSampler\n",
        "from torchvision import transforms, datasets\n",
        "\n",
        "# Model file in models\n",
        "# from models.cnn_model import ModelCNN"
      ],
      "execution_count": 28,
      "outputs": []
    },
    {
      "cell_type": "code",
      "metadata": {
        "colab": {
          "base_uri": "https://localhost:8080/"
        },
        "id": "Ylof3fTXvVdl",
        "outputId": "74a470cd-477f-49b1-b85e-2b1c03932f91"
      },
      "source": [
        "# generate a dummy input\n",
        "example_input = torch.rand(1, 3, 96, 96).to(torch.device(\"cuda\"))\n",
        "\n",
        "# Store the existing model using torch.jit\n",
        "# traced_script_module = torch.jit.trace(model, example_input)\n",
        "\n",
        "full_filename = \"best_model_2021_04_18.pt\"\n",
        "new_model = torch.jit.load(full_filename)\n",
        "new_model.eval()\n",
        "\n",
        "full_filename2 = \"april_17th_pcam_cnn.pt\"\n",
        "new_model2 = torch.jit.load(full_filename2)\n",
        "new_model2.eval()"
      ],
      "execution_count": 55,
      "outputs": [
        {
          "output_type": "execute_result",
          "data": {
            "text/plain": [
              "RecursiveScriptModule(\n",
              "  original_name=CNN_V2\n",
              "  (conv1): RecursiveScriptModule(original_name=Conv2d)\n",
              "  (bn1): RecursiveScriptModule(original_name=BatchNorm2d)\n",
              "  (conv2): RecursiveScriptModule(original_name=Conv2d)\n",
              "  (bn2): RecursiveScriptModule(original_name=BatchNorm2d)\n",
              "  (conv3): RecursiveScriptModule(original_name=Conv2d)\n",
              "  (bn3): RecursiveScriptModule(original_name=BatchNorm2d)\n",
              "  (conv4): RecursiveScriptModule(original_name=Conv2d)\n",
              "  (bn4): RecursiveScriptModule(original_name=BatchNorm2d)\n",
              "  (pool): RecursiveScriptModule(original_name=MaxPool2d)\n",
              "  (dropout): RecursiveScriptModule(original_name=Dropout)\n",
              "  (fc1): RecursiveScriptModule(original_name=Linear)\n",
              "  (fc_bn1): RecursiveScriptModule(original_name=BatchNorm1d)\n",
              "  (fc2): RecursiveScriptModule(original_name=Linear)\n",
              "  (fc_bn2): RecursiveScriptModule(original_name=BatchNorm1d)\n",
              "  (fc3): RecursiveScriptModule(original_name=Linear)\n",
              "  (fc_bn3): RecursiveScriptModule(original_name=BatchNorm1d)\n",
              "  (fc4): RecursiveScriptModule(original_name=Linear)\n",
              ")"
            ]
          },
          "metadata": {
            "tags": []
          },
          "execution_count": 55
        }
      ]
    },
    {
      "cell_type": "code",
      "metadata": {
        "colab": {
          "base_uri": "https://localhost:8080/"
        },
        "id": "NnNBq7psBVEE",
        "outputId": "a9c01a98-d7aa-4f9f-a51a-afce075386fc"
      },
      "source": [
        "def predict_on_image(path, model):\n",
        "  \"\"\"This method predicts and prints a prediction which is a PyTorch Tensor\"\"\"\n",
        "  image = Image.open(path)\n",
        "\n",
        "  # transformation on images data validation/test on PCAM\n",
        "  trans = transforms.Compose([\n",
        "      transforms.ToTensor(),\n",
        "      transforms.Normalize((0.5, 0.5, 0.5), (0.5, 0.5, 0.5))\n",
        "    ])\n",
        "  \n",
        "  # move image to PyTorch tensor\n",
        "  image = trans(image).to(torch.device(\"cuda\"))\n",
        "\n",
        "  data = model(image[None, ...])\n",
        "  print(int(sigmoid(data.item()) > 0.5))\n",
        "\n",
        "# As part of architecture\n",
        "def sigmoid(x):\n",
        "    \"\"\"This method calculates the sigmoid function\"\"\"\n",
        "    return 1.0/(1.0 + np.exp(-x))\n",
        "\n",
        "# Run image1 on both models to get prediction\n",
        "predict_on_image(\"1.png\", new_model)\n",
        "predict_on_image(\"1.png\", new_model2)\n",
        "\n",
        "# Run image2 on both models to get prediction\n",
        "predict_on_image(\"0.png\", new_model)\n",
        "predict_on_image(\"0.png\", new_model2)"
      ],
      "execution_count": 71,
      "outputs": [
        {
          "output_type": "stream",
          "text": [
            "1\n",
            "1\n",
            "0\n",
            "0\n"
          ],
          "name": "stdout"
        }
      ]
    },
    {
      "cell_type": "code",
      "metadata": {
        "id": "cD9_TTGrKmEP"
      },
      "source": [
        ""
      ],
      "execution_count": null,
      "outputs": []
    }
  ]
}